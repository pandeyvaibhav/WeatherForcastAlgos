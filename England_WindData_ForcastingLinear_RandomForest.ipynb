{
  "nbformat": 4,
  "nbformat_minor": 0,
  "metadata": {
    "colab": {
      "provenance": [],
      "gpuType": "L4"
    },
    "kernelspec": {
      "name": "python3",
      "display_name": "Python 3"
    },
    "language_info": {
      "name": "python"
    },
    "accelerator": "GPU"
  },
  "cells": [
    {
      "cell_type": "code",
      "execution_count": null,
      "metadata": {
        "id": "DsRxAIOsL48P"
      },
      "outputs": [],
      "source": [
        "import pandas as pd\n",
        "import numpy as np\n",
        "from sklearn.model_selection import train_test_split\n",
        "from sklearn.preprocessing import StandardScaler\n",
        "from sklearn.linear_model import LinearRegression\n",
        "from sklearn.ensemble import RandomForestRegressor\n",
        "from sklearn.metrics import mean_absolute_error, mean_squared_error\n",
        "import matplotlib.pyplot as plt"
      ]
    },
    {
      "cell_type": "code",
      "source": [
        "import pandas as pd\n",
        "import matplotlib.pyplot as plt\n",
        "import seaborn as sns"
      ],
      "metadata": {
        "id": "v9CAa2cmMaWA"
      },
      "execution_count": null,
      "outputs": []
    },
    {
      "cell_type": "code",
      "source": [
        "import pandas as pd\n",
        "\n",
        "# Load the dataset\n",
        "file_path = 'EnglandWeather.csv'\n",
        "dataset = pd.read_csv(file_path, parse_dates=['Formatted Date'])\n",
        "\n",
        "# Ensure the 'Formatted Date' column is set as the index\n",
        "dataset.set_index('Formatted Date', inplace=True)\n",
        "\n",
        "# Convert the index to datetime with timezone awareness\n",
        "dataset.index = pd.to_datetime(dataset.index, utc=True)\n",
        "\n",
        "# Display the first few rows of the dataset to verify the index\n",
        "dataset.head()"
      ],
      "metadata": {
        "colab": {
          "base_uri": "https://localhost:8080/",
          "height": 238
        },
        "id": "zm0lvG93ELjp",
        "outputId": "01baa2da-bd19-4844-97a6-fdff3ebbcc1b"
      },
      "execution_count": null,
      "outputs": [
        {
          "output_type": "execute_result",
          "data": {
            "text/plain": [
              "                                 Summary Precip Type  Temperature (C)  \\\n",
              "Formatted Date                                                          \n",
              "2006-03-31 22:00:00+00:00  Partly Cloudy        rain         9.472222   \n",
              "2006-03-31 23:00:00+00:00  Partly Cloudy        rain         9.355556   \n",
              "2006-04-01 00:00:00+00:00  Mostly Cloudy        rain         9.377778   \n",
              "2006-04-01 01:00:00+00:00  Partly Cloudy        rain         8.288889   \n",
              "2006-04-01 02:00:00+00:00  Mostly Cloudy        rain         8.755556   \n",
              "\n",
              "                           Wind Speed (km/h)  Pressure (millibars)  Humidity  \n",
              "Formatted Date                                                                \n",
              "2006-03-31 22:00:00+00:00            14.1197               1015.13      0.89  \n",
              "2006-03-31 23:00:00+00:00            14.2646               1015.63      0.86  \n",
              "2006-04-01 00:00:00+00:00             3.9284               1015.94      0.89  \n",
              "2006-04-01 01:00:00+00:00            14.1036               1016.41      0.83  \n",
              "2006-04-01 02:00:00+00:00            11.0446               1016.51      0.83  "
            ],
            "text/html": [
              "\n",
              "  <div id=\"df-36fef2c6-bf2b-47dd-b3f6-81e63bd16ac2\" class=\"colab-df-container\">\n",
              "    <div>\n",
              "<style scoped>\n",
              "    .dataframe tbody tr th:only-of-type {\n",
              "        vertical-align: middle;\n",
              "    }\n",
              "\n",
              "    .dataframe tbody tr th {\n",
              "        vertical-align: top;\n",
              "    }\n",
              "\n",
              "    .dataframe thead th {\n",
              "        text-align: right;\n",
              "    }\n",
              "</style>\n",
              "<table border=\"1\" class=\"dataframe\">\n",
              "  <thead>\n",
              "    <tr style=\"text-align: right;\">\n",
              "      <th></th>\n",
              "      <th>Summary</th>\n",
              "      <th>Precip Type</th>\n",
              "      <th>Temperature (C)</th>\n",
              "      <th>Wind Speed (km/h)</th>\n",
              "      <th>Pressure (millibars)</th>\n",
              "      <th>Humidity</th>\n",
              "    </tr>\n",
              "    <tr>\n",
              "      <th>Formatted Date</th>\n",
              "      <th></th>\n",
              "      <th></th>\n",
              "      <th></th>\n",
              "      <th></th>\n",
              "      <th></th>\n",
              "      <th></th>\n",
              "    </tr>\n",
              "  </thead>\n",
              "  <tbody>\n",
              "    <tr>\n",
              "      <th>2006-03-31 22:00:00+00:00</th>\n",
              "      <td>Partly Cloudy</td>\n",
              "      <td>rain</td>\n",
              "      <td>9.472222</td>\n",
              "      <td>14.1197</td>\n",
              "      <td>1015.13</td>\n",
              "      <td>0.89</td>\n",
              "    </tr>\n",
              "    <tr>\n",
              "      <th>2006-03-31 23:00:00+00:00</th>\n",
              "      <td>Partly Cloudy</td>\n",
              "      <td>rain</td>\n",
              "      <td>9.355556</td>\n",
              "      <td>14.2646</td>\n",
              "      <td>1015.63</td>\n",
              "      <td>0.86</td>\n",
              "    </tr>\n",
              "    <tr>\n",
              "      <th>2006-04-01 00:00:00+00:00</th>\n",
              "      <td>Mostly Cloudy</td>\n",
              "      <td>rain</td>\n",
              "      <td>9.377778</td>\n",
              "      <td>3.9284</td>\n",
              "      <td>1015.94</td>\n",
              "      <td>0.89</td>\n",
              "    </tr>\n",
              "    <tr>\n",
              "      <th>2006-04-01 01:00:00+00:00</th>\n",
              "      <td>Partly Cloudy</td>\n",
              "      <td>rain</td>\n",
              "      <td>8.288889</td>\n",
              "      <td>14.1036</td>\n",
              "      <td>1016.41</td>\n",
              "      <td>0.83</td>\n",
              "    </tr>\n",
              "    <tr>\n",
              "      <th>2006-04-01 02:00:00+00:00</th>\n",
              "      <td>Mostly Cloudy</td>\n",
              "      <td>rain</td>\n",
              "      <td>8.755556</td>\n",
              "      <td>11.0446</td>\n",
              "      <td>1016.51</td>\n",
              "      <td>0.83</td>\n",
              "    </tr>\n",
              "  </tbody>\n",
              "</table>\n",
              "</div>\n",
              "    <div class=\"colab-df-buttons\">\n",
              "\n",
              "  <div class=\"colab-df-container\">\n",
              "    <button class=\"colab-df-convert\" onclick=\"convertToInteractive('df-36fef2c6-bf2b-47dd-b3f6-81e63bd16ac2')\"\n",
              "            title=\"Convert this dataframe to an interactive table.\"\n",
              "            style=\"display:none;\">\n",
              "\n",
              "  <svg xmlns=\"http://www.w3.org/2000/svg\" height=\"24px\" viewBox=\"0 -960 960 960\">\n",
              "    <path d=\"M120-120v-720h720v720H120Zm60-500h600v-160H180v160Zm220 220h160v-160H400v160Zm0 220h160v-160H400v160ZM180-400h160v-160H180v160Zm440 0h160v-160H620v160ZM180-180h160v-160H180v160Zm440 0h160v-160H620v160Z\"/>\n",
              "  </svg>\n",
              "    </button>\n",
              "\n",
              "  <style>\n",
              "    .colab-df-container {\n",
              "      display:flex;\n",
              "      gap: 12px;\n",
              "    }\n",
              "\n",
              "    .colab-df-convert {\n",
              "      background-color: #E8F0FE;\n",
              "      border: none;\n",
              "      border-radius: 50%;\n",
              "      cursor: pointer;\n",
              "      display: none;\n",
              "      fill: #1967D2;\n",
              "      height: 32px;\n",
              "      padding: 0 0 0 0;\n",
              "      width: 32px;\n",
              "    }\n",
              "\n",
              "    .colab-df-convert:hover {\n",
              "      background-color: #E2EBFA;\n",
              "      box-shadow: 0px 1px 2px rgba(60, 64, 67, 0.3), 0px 1px 3px 1px rgba(60, 64, 67, 0.15);\n",
              "      fill: #174EA6;\n",
              "    }\n",
              "\n",
              "    .colab-df-buttons div {\n",
              "      margin-bottom: 4px;\n",
              "    }\n",
              "\n",
              "    [theme=dark] .colab-df-convert {\n",
              "      background-color: #3B4455;\n",
              "      fill: #D2E3FC;\n",
              "    }\n",
              "\n",
              "    [theme=dark] .colab-df-convert:hover {\n",
              "      background-color: #434B5C;\n",
              "      box-shadow: 0px 1px 3px 1px rgba(0, 0, 0, 0.15);\n",
              "      filter: drop-shadow(0px 1px 2px rgba(0, 0, 0, 0.3));\n",
              "      fill: #FFFFFF;\n",
              "    }\n",
              "  </style>\n",
              "\n",
              "    <script>\n",
              "      const buttonEl =\n",
              "        document.querySelector('#df-36fef2c6-bf2b-47dd-b3f6-81e63bd16ac2 button.colab-df-convert');\n",
              "      buttonEl.style.display =\n",
              "        google.colab.kernel.accessAllowed ? 'block' : 'none';\n",
              "\n",
              "      async function convertToInteractive(key) {\n",
              "        const element = document.querySelector('#df-36fef2c6-bf2b-47dd-b3f6-81e63bd16ac2');\n",
              "        const dataTable =\n",
              "          await google.colab.kernel.invokeFunction('convertToInteractive',\n",
              "                                                    [key], {});\n",
              "        if (!dataTable) return;\n",
              "\n",
              "        const docLinkHtml = 'Like what you see? Visit the ' +\n",
              "          '<a target=\"_blank\" href=https://colab.research.google.com/notebooks/data_table.ipynb>data table notebook</a>'\n",
              "          + ' to learn more about interactive tables.';\n",
              "        element.innerHTML = '';\n",
              "        dataTable['output_type'] = 'display_data';\n",
              "        await google.colab.output.renderOutput(dataTable, element);\n",
              "        const docLink = document.createElement('div');\n",
              "        docLink.innerHTML = docLinkHtml;\n",
              "        element.appendChild(docLink);\n",
              "      }\n",
              "    </script>\n",
              "  </div>\n",
              "\n",
              "\n",
              "<div id=\"df-3b1e35c2-01b4-44a5-9cde-c5ed0242b279\">\n",
              "  <button class=\"colab-df-quickchart\" onclick=\"quickchart('df-3b1e35c2-01b4-44a5-9cde-c5ed0242b279')\"\n",
              "            title=\"Suggest charts\"\n",
              "            style=\"display:none;\">\n",
              "\n",
              "<svg xmlns=\"http://www.w3.org/2000/svg\" height=\"24px\"viewBox=\"0 0 24 24\"\n",
              "     width=\"24px\">\n",
              "    <g>\n",
              "        <path d=\"M19 3H5c-1.1 0-2 .9-2 2v14c0 1.1.9 2 2 2h14c1.1 0 2-.9 2-2V5c0-1.1-.9-2-2-2zM9 17H7v-7h2v7zm4 0h-2V7h2v10zm4 0h-2v-4h2v4z\"/>\n",
              "    </g>\n",
              "</svg>\n",
              "  </button>\n",
              "\n",
              "<style>\n",
              "  .colab-df-quickchart {\n",
              "      --bg-color: #E8F0FE;\n",
              "      --fill-color: #1967D2;\n",
              "      --hover-bg-color: #E2EBFA;\n",
              "      --hover-fill-color: #174EA6;\n",
              "      --disabled-fill-color: #AAA;\n",
              "      --disabled-bg-color: #DDD;\n",
              "  }\n",
              "\n",
              "  [theme=dark] .colab-df-quickchart {\n",
              "      --bg-color: #3B4455;\n",
              "      --fill-color: #D2E3FC;\n",
              "      --hover-bg-color: #434B5C;\n",
              "      --hover-fill-color: #FFFFFF;\n",
              "      --disabled-bg-color: #3B4455;\n",
              "      --disabled-fill-color: #666;\n",
              "  }\n",
              "\n",
              "  .colab-df-quickchart {\n",
              "    background-color: var(--bg-color);\n",
              "    border: none;\n",
              "    border-radius: 50%;\n",
              "    cursor: pointer;\n",
              "    display: none;\n",
              "    fill: var(--fill-color);\n",
              "    height: 32px;\n",
              "    padding: 0;\n",
              "    width: 32px;\n",
              "  }\n",
              "\n",
              "  .colab-df-quickchart:hover {\n",
              "    background-color: var(--hover-bg-color);\n",
              "    box-shadow: 0 1px 2px rgba(60, 64, 67, 0.3), 0 1px 3px 1px rgba(60, 64, 67, 0.15);\n",
              "    fill: var(--button-hover-fill-color);\n",
              "  }\n",
              "\n",
              "  .colab-df-quickchart-complete:disabled,\n",
              "  .colab-df-quickchart-complete:disabled:hover {\n",
              "    background-color: var(--disabled-bg-color);\n",
              "    fill: var(--disabled-fill-color);\n",
              "    box-shadow: none;\n",
              "  }\n",
              "\n",
              "  .colab-df-spinner {\n",
              "    border: 2px solid var(--fill-color);\n",
              "    border-color: transparent;\n",
              "    border-bottom-color: var(--fill-color);\n",
              "    animation:\n",
              "      spin 1s steps(1) infinite;\n",
              "  }\n",
              "\n",
              "  @keyframes spin {\n",
              "    0% {\n",
              "      border-color: transparent;\n",
              "      border-bottom-color: var(--fill-color);\n",
              "      border-left-color: var(--fill-color);\n",
              "    }\n",
              "    20% {\n",
              "      border-color: transparent;\n",
              "      border-left-color: var(--fill-color);\n",
              "      border-top-color: var(--fill-color);\n",
              "    }\n",
              "    30% {\n",
              "      border-color: transparent;\n",
              "      border-left-color: var(--fill-color);\n",
              "      border-top-color: var(--fill-color);\n",
              "      border-right-color: var(--fill-color);\n",
              "    }\n",
              "    40% {\n",
              "      border-color: transparent;\n",
              "      border-right-color: var(--fill-color);\n",
              "      border-top-color: var(--fill-color);\n",
              "    }\n",
              "    60% {\n",
              "      border-color: transparent;\n",
              "      border-right-color: var(--fill-color);\n",
              "    }\n",
              "    80% {\n",
              "      border-color: transparent;\n",
              "      border-right-color: var(--fill-color);\n",
              "      border-bottom-color: var(--fill-color);\n",
              "    }\n",
              "    90% {\n",
              "      border-color: transparent;\n",
              "      border-bottom-color: var(--fill-color);\n",
              "    }\n",
              "  }\n",
              "</style>\n",
              "\n",
              "  <script>\n",
              "    async function quickchart(key) {\n",
              "      const quickchartButtonEl =\n",
              "        document.querySelector('#' + key + ' button');\n",
              "      quickchartButtonEl.disabled = true;  // To prevent multiple clicks.\n",
              "      quickchartButtonEl.classList.add('colab-df-spinner');\n",
              "      try {\n",
              "        const charts = await google.colab.kernel.invokeFunction(\n",
              "            'suggestCharts', [key], {});\n",
              "      } catch (error) {\n",
              "        console.error('Error during call to suggestCharts:', error);\n",
              "      }\n",
              "      quickchartButtonEl.classList.remove('colab-df-spinner');\n",
              "      quickchartButtonEl.classList.add('colab-df-quickchart-complete');\n",
              "    }\n",
              "    (() => {\n",
              "      let quickchartButtonEl =\n",
              "        document.querySelector('#df-3b1e35c2-01b4-44a5-9cde-c5ed0242b279 button');\n",
              "      quickchartButtonEl.style.display =\n",
              "        google.colab.kernel.accessAllowed ? 'block' : 'none';\n",
              "    })();\n",
              "  </script>\n",
              "</div>\n",
              "    </div>\n",
              "  </div>\n"
            ],
            "application/vnd.google.colaboratory.intrinsic+json": {
              "type": "dataframe",
              "variable_name": "dataset",
              "summary": "{\n  \"name\": \"dataset\",\n  \"rows\": 53478,\n  \"fields\": [\n    {\n      \"column\": \"Formatted Date\",\n      \"properties\": {\n        \"dtype\": \"date\",\n        \"min\": \"2005-12-31 23:00:00+00:00\",\n        \"max\": \"2012-08-15 03:00:00+00:00\",\n        \"num_unique_values\": 53454,\n        \"samples\": [\n          \"2006-03-03 11:00:00+00:00\",\n          \"2007-03-25 19:00:00+00:00\",\n          \"2007-04-02 19:00:00+00:00\"\n        ],\n        \"semantic_type\": \"\",\n        \"description\": \"\"\n      }\n    },\n    {\n      \"column\": \"Summary\",\n      \"properties\": {\n        \"dtype\": \"category\",\n        \"num_unique_values\": 24,\n        \"samples\": [\n          \"Humid and Mostly Cloudy\",\n          \"Windy and Mostly Cloudy\",\n          \"Partly Cloudy\"\n        ],\n        \"semantic_type\": \"\",\n        \"description\": \"\"\n      }\n    },\n    {\n      \"column\": \"Precip Type\",\n      \"properties\": {\n        \"dtype\": \"category\",\n        \"num_unique_values\": 2,\n        \"samples\": [\n          \"snow\",\n          \"rain\"\n        ],\n        \"semantic_type\": \"\",\n        \"description\": \"\"\n      }\n    },\n    {\n      \"column\": \"Temperature (C)\",\n      \"properties\": {\n        \"dtype\": \"number\",\n        \"std\": 9.597259745622553,\n        \"min\": -16.66666667,\n        \"max\": 39.90555556,\n        \"num_unique_values\": 6888,\n        \"samples\": [\n          7.616666667,\n          24.05555556\n        ],\n        \"semantic_type\": \"\",\n        \"description\": \"\"\n      }\n    },\n    {\n      \"column\": \"Wind Speed (km/h)\",\n      \"properties\": {\n        \"dtype\": \"number\",\n        \"std\": 6.9786494580151555,\n        \"min\": 0.0,\n        \"max\": 63.8526,\n        \"num_unique_values\": 2314,\n        \"samples\": [\n          20.8173,\n          15.2628\n        ],\n        \"semantic_type\": \"\",\n        \"description\": \"\"\n      }\n    },\n    {\n      \"column\": \"Pressure (millibars)\",\n      \"properties\": {\n        \"dtype\": \"number\",\n        \"std\": 113.96225330139953,\n        \"min\": 0.0,\n        \"max\": 1046.38,\n        \"num_unique_values\": 4670,\n        \"samples\": [\n          1024.93,\n          1002.81\n        ],\n        \"semantic_type\": \"\",\n        \"description\": \"\"\n      }\n    },\n    {\n      \"column\": \"Humidity\",\n      \"properties\": {\n        \"dtype\": \"number\",\n        \"std\": 0.19424338117574289,\n        \"min\": 0.0,\n        \"max\": 1.0,\n        \"num_unique_values\": 89,\n        \"samples\": [\n          0.75,\n          0.64\n        ],\n        \"semantic_type\": \"\",\n        \"description\": \"\"\n      }\n    }\n  ]\n}"
            }
          },
          "metadata": {},
          "execution_count": 6
        }
      ]
    },
    {
      "cell_type": "code",
      "source": [
        "\n"
      ],
      "metadata": {
        "id": "WCsJQmOjL5tJ"
      },
      "execution_count": null,
      "outputs": []
    },
    {
      "cell_type": "markdown",
      "source": [
        "# Load the dataset from the CSV file\n",
        "dataset = pd.read_csv('EnglandWeather.csv', parse_dates=['Formatted Date'])\n",
        "\n",
        "# Ensure the 'Formatted Date' column is set as the index\n",
        "dataset.set_index('Formatted Date', inplace=True)\n",
        "\n",
        "# Convert the index to datetime, ensuring it's in UTC if it's timezone-aware\n",
        "dataset.index = pd.to_datetime(dataset.index, utc=True)"
      ],
      "metadata": {
        "id": "PCm1Y0zRKLN4"
      }
    },
    {
      "cell_type": "markdown",
      "source": [
        "***italicised text***###EDA"
      ],
      "metadata": {
        "id": "_1mdSzd3HPYI"
      }
    },
    {
      "cell_type": "code",
      "source": [
        "# Summary statistics\n",
        "print(dataset.describe())"
      ],
      "metadata": {
        "id": "63JK20WY2QU3",
        "colab": {
          "base_uri": "https://localhost:8080/"
        },
        "outputId": "3a5ccbbc-dce6-47c0-a010-365018ddd585"
      },
      "execution_count": null,
      "outputs": [
        {
          "output_type": "stream",
          "name": "stdout",
          "text": [
            "       Temperature (C)  Wind Speed (km/h)  Pressure (millibars)      Humidity\n",
            "count     53478.000000       53477.000000          53477.000000  53477.000000\n",
            "mean         11.783767          10.818032           1003.955621      0.731417\n",
            "std           9.597260           6.978649            113.962253      0.194243\n",
            "min         -16.666667           0.000000              0.000000      0.000000\n",
            "25%           4.455556           5.667200           1011.710000      0.600000\n",
            "50%          11.891667           9.837100           1016.480000      0.780000\n",
            "75%          18.783333          14.184100           1021.360000      0.890000\n",
            "max          39.905556          63.852600           1046.380000      1.000000\n"
          ]
        }
      ]
    },
    {
      "cell_type": "code",
      "source": [
        "# Display the first few rows of the dataset to understand its structure\n",
        "print(dataset.head())\n"
      ],
      "metadata": {
        "id": "X0vDVzzn28hB",
        "colab": {
          "base_uri": "https://localhost:8080/"
        },
        "outputId": "3e1c7759-597a-4163-9ea2-6d39d42cc19c"
      },
      "execution_count": null,
      "outputs": [
        {
          "output_type": "stream",
          "name": "stdout",
          "text": [
            "                                 Summary Precip Type  Temperature (C)  \\\n",
            "Formatted Date                                                          \n",
            "2006-03-31 22:00:00+00:00  Partly Cloudy        rain         9.472222   \n",
            "2006-03-31 23:00:00+00:00  Partly Cloudy        rain         9.355556   \n",
            "2006-04-01 00:00:00+00:00  Mostly Cloudy        rain         9.377778   \n",
            "2006-04-01 01:00:00+00:00  Partly Cloudy        rain         8.288889   \n",
            "2006-04-01 02:00:00+00:00  Mostly Cloudy        rain         8.755556   \n",
            "\n",
            "                           Wind Speed (km/h)  Pressure (millibars)  Humidity  \n",
            "Formatted Date                                                                \n",
            "2006-03-31 22:00:00+00:00            14.1197               1015.13      0.89  \n",
            "2006-03-31 23:00:00+00:00            14.2646               1015.63      0.86  \n",
            "2006-04-01 00:00:00+00:00             3.9284               1015.94      0.89  \n",
            "2006-04-01 01:00:00+00:00            14.1036               1016.41      0.83  \n",
            "2006-04-01 02:00:00+00:00            11.0446               1016.51      0.83  \n"
          ]
        }
      ]
    },
    {
      "cell_type": "code",
      "source": [
        "# Summary statistics\n",
        "print(dataset.describe())"
      ],
      "metadata": {
        "id": "fEPWA9blHFiD",
        "colab": {
          "base_uri": "https://localhost:8080/"
        },
        "outputId": "80c09bef-c9a1-474b-d4e4-87bb247107b1"
      },
      "execution_count": null,
      "outputs": [
        {
          "output_type": "stream",
          "name": "stdout",
          "text": [
            "       Temperature (C)  Wind Speed (km/h)  Pressure (millibars)      Humidity\n",
            "count     53478.000000       53477.000000          53477.000000  53477.000000\n",
            "mean         11.783767          10.818032           1003.955621      0.731417\n",
            "std           9.597260           6.978649            113.962253      0.194243\n",
            "min         -16.666667           0.000000              0.000000      0.000000\n",
            "25%           4.455556           5.667200           1011.710000      0.600000\n",
            "50%          11.891667           9.837100           1016.480000      0.780000\n",
            "75%          18.783333          14.184100           1021.360000      0.890000\n",
            "max          39.905556          63.852600           1046.380000      1.000000\n"
          ]
        }
      ]
    },
    {
      "cell_type": "code",
      "source": [
        "# Monthly average temperature\n",
        "dataset['Month'] = dataset.index.month\n",
        "monthly_avg_temp = dataset.groupby('Month')['Temperature (C)'].mean()"
      ],
      "metadata": {
        "id": "E060Vyei3-vG"
      },
      "execution_count": null,
      "outputs": []
    },
    {
      "cell_type": "markdown",
      "source": [
        "data = {\n",
        "    'Formatted Date': pd.date_range(start='1/1/2006', periods=365, freq='D'),\n",
        "    'Summary': ['Clear', 'Rain', 'Snow', 'Cloudy'] * 91 + ['Clear'],\n",
        "    'Precip Type': ['rain', 'snow', 'rain', 'rain'] * 91 + ['snow'],\n",
        "    'Temperature (C)': np.random.rand(365) * 20 + 5,\n",
        "    'Wind Speed (km/h)': np.random.rand(365) * 10 + 2,\n",
        "    'Pressure (millibars)': np.random.rand(365) * 10 + 1010,\n",
        "    'Humidity': np.random.rand(365) * 50 + 30,\n",
        "}\n",
        "\n",
        "dataset = pd.DataFrame(data)"
      ],
      "metadata": {
        "id": "IBf7ooDZ2ELN"
      }
    },
    {
      "cell_type": "code",
      "source": [
        "plt.figure(figsize=(14, 7))\n",
        "monthly_avg_temp.plot(kind='bar')\n",
        "plt.title('Average Monthly Temperature')\n",
        "plt.xlabel('Month')\n",
        "plt.ylabel('Temperature (C)')\n",
        "plt.show()\n",
        "\n",
        "# Temperature vs. Humidity scatter plot\n",
        "#plt.figure(figsize=(10, 6))\n",
        "#sns.scatterplot(data=dataset, x='Temperature (C)', y='Humidity')\n",
        "#plt.title('Temperature vs. Humidity')\n",
        "#plt.show()\n",
        "\n",
        "# Wind Speed vs. Temperature scatter plot\n",
        "#plt.figure(figsize=(10, 6))\n",
        "#ns.scatterplot(data=dataset, x='Wind Speed (km/h)', y='Temperature (C)')\n",
        "#plt.title('Wind Speed vs. Temperature')\n",
        "#plt.show()\n",
        "\n",
        "# Pressure distribution across weather conditions\n",
        "#plt.figure(figsize=(14, 7))\n",
        "#sns.boxplot(data=dataset, x='Summary', y='Pressure (millibars)')\n",
        "#plt.title('Pressure Distribution Across Weather Conditions')\n",
        "#plt.xticks(rotation=90)\n",
        "#plt.show()"
      ],
      "metadata": {
        "id": "SkKQBc-SOdNt",
        "colab": {
          "base_uri": "https://localhost:8080/",
          "height": 645
        },
        "outputId": "6331c9cb-c846-4384-d40d-d425e01735ff"
      },
      "execution_count": null,
      "outputs": [
        {
          "output_type": "display_data",
          "data": {
            "text/plain": [
              "<Figure size 1400x700 with 1 Axes>"
            ],
            "image/png": "[encoded data removed]"
          },
          "metadata": {}
        }
      ]
    },
    {
      "cell_type": "code",
      "source": [
        "# Anomaly detection: High wind speed events (top 5%)\n",
        "high_wind_speed_events = dataset[dataset['Wind Speed (km/h)'] > dataset['Wind Speed (km/h)'].quantile(0.95)]\n",
        "print(\"High Wind Speed Events:\")\n",
        "print(high_wind_speed_events[['Summary', 'Wind Speed (km/h)', 'Temperature (C)', 'Humidity']])\n",
        "\n"
      ],
      "metadata": {
        "id": "flONOH8K4Ui4",
        "colab": {
          "base_uri": "https://localhost:8080/"
        },
        "outputId": "6efd2314-9464-4006-eb5a-4e39647a0829"
      },
      "execution_count": null,
      "outputs": [
        {
          "output_type": "stream",
          "name": "stdout",
          "text": [
            "High Wind Speed Events:\n",
            "                                            Summary  Wind Speed (km/h)  \\\n",
            "Formatted Date                                                           \n",
            "2006-04-10 11:00:00+00:00             Mostly Cloudy            28.3682   \n",
            "2006-04-10 12:00:00+00:00             Mostly Cloudy            26.9031   \n",
            "2006-04-10 13:00:00+00:00             Mostly Cloudy            25.6956   \n",
            "2006-04-10 14:00:00+00:00             Mostly Cloudy            25.3092   \n",
            "2006-04-11 17:00:00+00:00                     Foggy            26.5006   \n",
            "...                                             ...                ...   \n",
            "2012-04-09 01:00:00+00:00             Mostly Cloudy            25.7600   \n",
            "2012-08-10 17:00:00+00:00  Breezy and Mostly Cloudy            29.3181   \n",
            "2012-08-11 14:00:00+00:00             Mostly Cloudy            27.1124   \n",
            "2012-08-11 16:00:00+00:00             Mostly Cloudy            28.0784   \n",
            "2012-08-14 14:00:00+00:00             Partly Cloudy            24.9711   \n",
            "\n",
            "                           Temperature (C)  Humidity  \n",
            "Formatted Date                                        \n",
            "2006-04-10 11:00:00+00:00        20.044444      0.40  \n",
            "2006-04-10 12:00:00+00:00        21.050000      0.40  \n",
            "2006-04-10 13:00:00+00:00        21.183333      0.37  \n",
            "2006-04-10 14:00:00+00:00        20.116667      0.40  \n",
            "2006-04-11 17:00:00+00:00         8.800000      0.99  \n",
            "...                                    ...       ...  \n",
            "2012-04-09 01:00:00+00:00         2.777778      0.59  \n",
            "2012-08-10 17:00:00+00:00        24.972222      0.30  \n",
            "2012-08-11 14:00:00+00:00        23.722222      0.36  \n",
            "2012-08-11 16:00:00+00:00        20.005556      0.40  \n",
            "2012-08-14 14:00:00+00:00        26.105556      0.22  \n",
            "\n",
            "[2673 rows x 4 columns]\n"
          ]
        }
      ]
    },
    {
      "cell_type": "code",
      "source": [
        "# Modeling example: Predicting temperature based on other variables\n",
        "from sklearn.model_selection import train_test_split\n",
        "from sklearn.linear_model import LinearRegression\n",
        "from sklearn.metrics import mean_absolute_error, mean_squared_error\n",
        "\n",
        "# Feature selection\n",
        "features = dataset[['Humidity', 'Wind Speed (km/h)', 'Pressure (millibars)']]\n",
        "target = dataset['Temperature (C)']\n",
        "\n",
        "# Train-test split\n",
        "X_train, X_test, y_train, y_test = train_test_split(features, target, test_size=0.2, random_state=42)\n"
      ],
      "metadata": {
        "id": "0AUf0HH0r5f3"
      },
      "execution_count": null,
      "outputs": []
    },
    {
      "cell_type": "code",
      "source": [
        "# Random Forest Model\n",
        "rf_model = RandomForestRegressor(n_estimators=100, random_state=42)\n",
        "rf_model.fit(X_train, y_train)\n",
        "\n",
        "# Predictions\n",
        "y_pred = rf_model.predict(X_test)\n",
        "\n",
        "# Evaluation\n",
        "mae_rf = mean_absolute_error(y_test, y_pred)\n",
        "rmse_rf = mean_squared_error(y_test, y_pred, squared=False)\n",
        "\n",
        "print(f\"Random Forest MAE: {mae_rf}\")\n",
        "print(f\"Random Forest RMSE: {rmse_rf}\")\n"
      ],
      "metadata": {
        "id": "HMnt3Y404X7c",
        "colab": {
          "base_uri": "https://localhost:8080/",
          "height": 443
        },
        "outputId": "8767cc71-2587-49db-d7de-fdbcecce106e"
      },
      "execution_count": null,
      "outputs": [
        {
          "output_type": "error",
          "ename": "ValueError",
          "evalue": "Input X contains NaN.\nRandomForestRegressor does not accept missing values encoded as NaN natively. For supervised learning, you might want to consider sklearn.ensemble.HistGradientBoostingClassifier and Regressor which accept missing values encoded as NaNs natively. Alternatively, it is possible to preprocess the data, for instance by using an imputer transformer in a pipeline or drop samples with missing values. See https://scikit-learn.org/stable/modules/impute.html You can find a list of all estimators that handle NaN values at the following page: https://scikit-learn.org/stable/modules/impute.html#estimators-that-handle-nan-values",
          "traceback": [
            "\u001b[0;31m---------------------------------------------------------------------------\u001b[0m",
            "\u001b[0;31mValueError\u001b[0m                                Traceback (most recent call last)",
            "\u001b[0;32m<ipython-input-20-250c9af9e177>\u001b[0m in \u001b[0;36m<cell line: 3>\u001b[0;34m()\u001b[0m\n\u001b[1;32m      1\u001b[0m \u001b[0;31m# Random Forest Model\u001b[0m\u001b[0;34m\u001b[0m\u001b[0;34m\u001b[0m\u001b[0m\n\u001b[1;32m      2\u001b[0m \u001b[0mrf_model\u001b[0m \u001b[0;34m=\u001b[0m \u001b[0mRandomForestRegressor\u001b[0m\u001b[0;34m(\u001b[0m\u001b[0mn_estimators\u001b[0m\u001b[0;34m=\u001b[0m\u001b[0;36m100\u001b[0m\u001b[0;34m,\u001b[0m \u001b[0mrandom_state\u001b[0m\u001b[0;34m=\u001b[0m\u001b[0;36m42\u001b[0m\u001b[0;34m)\u001b[0m\u001b[0;34m\u001b[0m\u001b[0;34m\u001b[0m\u001b[0m\n\u001b[0;32m----> 3\u001b[0;31m \u001b[0mrf_model\u001b[0m\u001b[0;34m.\u001b[0m\u001b[0mfit\u001b[0m\u001b[0;34m(\u001b[0m\u001b[0mX_train\u001b[0m\u001b[0;34m,\u001b[0m \u001b[0my_train\u001b[0m\u001b[0;34m)\u001b[0m\u001b[0;34m\u001b[0m\u001b[0;34m\u001b[0m\u001b[0m\n\u001b[0m\u001b[1;32m      4\u001b[0m \u001b[0;34m\u001b[0m\u001b[0m\n\u001b[1;32m      5\u001b[0m \u001b[0;31m# Predictions\u001b[0m\u001b[0;34m\u001b[0m\u001b[0;34m\u001b[0m\u001b[0m\n",
            "\u001b[0;32m/usr/local/lib/python3.10/dist-packages/sklearn/ensemble/_forest.py\u001b[0m in \u001b[0;36mfit\u001b[0;34m(self, X, y, sample_weight)\u001b[0m\n\u001b[1;32m    343\u001b[0m         \u001b[0;32mif\u001b[0m \u001b[0missparse\u001b[0m\u001b[0;34m(\u001b[0m\u001b[0my\u001b[0m\u001b[0;34m)\u001b[0m\u001b[0;34m:\u001b[0m\u001b[0;34m\u001b[0m\u001b[0;34m\u001b[0m\u001b[0m\n\u001b[1;32m    344\u001b[0m             \u001b[0;32mraise\u001b[0m \u001b[0mValueError\u001b[0m\u001b[0;34m(\u001b[0m\u001b[0;34m\"sparse multilabel-indicator for y is not supported.\"\u001b[0m\u001b[0;34m)\u001b[0m\u001b[0;34m\u001b[0m\u001b[0;34m\u001b[0m\u001b[0m\n\u001b[0;32m--> 345\u001b[0;31m         X, y = self._validate_data(\n\u001b[0m\u001b[1;32m    346\u001b[0m             \u001b[0mX\u001b[0m\u001b[0;34m,\u001b[0m \u001b[0my\u001b[0m\u001b[0;34m,\u001b[0m \u001b[0mmulti_output\u001b[0m\u001b[0;34m=\u001b[0m\u001b[0;32mTrue\u001b[0m\u001b[0;34m,\u001b[0m \u001b[0maccept_sparse\u001b[0m\u001b[0;34m=\u001b[0m\u001b[0;34m\"csc\"\u001b[0m\u001b[0;34m,\u001b[0m \u001b[0mdtype\u001b[0m\u001b[0;34m=\u001b[0m\u001b[0mDTYPE\u001b[0m\u001b[0;34m\u001b[0m\u001b[0;34m\u001b[0m\u001b[0m\n\u001b[1;32m    347\u001b[0m         )\n",
            "\u001b[0;32m/usr/local/lib/python3.10/dist-packages/sklearn/base.py\u001b[0m in \u001b[0;36m_validate_data\u001b[0;34m(self, X, y, reset, validate_separately, **check_params)\u001b[0m\n\u001b[1;32m    582\u001b[0m                 \u001b[0my\u001b[0m \u001b[0;34m=\u001b[0m \u001b[0mcheck_array\u001b[0m\u001b[0;34m(\u001b[0m\u001b[0my\u001b[0m\u001b[0;34m,\u001b[0m \u001b[0minput_name\u001b[0m\u001b[0;34m=\u001b[0m\u001b[0;34m\"y\"\u001b[0m\u001b[0;34m,\u001b[0m \u001b[0;34m**\u001b[0m\u001b[0mcheck_y_params\u001b[0m\u001b[0;34m)\u001b[0m\u001b[0;34m\u001b[0m\u001b[0;34m\u001b[0m\u001b[0m\n\u001b[1;32m    583\u001b[0m             \u001b[0;32melse\u001b[0m\u001b[0;34m:\u001b[0m\u001b[0;34m\u001b[0m\u001b[0;34m\u001b[0m\u001b[0m\n\u001b[0;32m--> 584\u001b[0;31m                 \u001b[0mX\u001b[0m\u001b[0;34m,\u001b[0m \u001b[0my\u001b[0m \u001b[0;34m=\u001b[0m \u001b[0mcheck_X_y\u001b[0m\u001b[0;34m(\u001b[0m\u001b[0mX\u001b[0m\u001b[0;34m,\u001b[0m \u001b[0my\u001b[0m\u001b[0;34m,\u001b[0m \u001b[0;34m**\u001b[0m\u001b[0mcheck_params\u001b[0m\u001b[0;34m)\u001b[0m\u001b[0;34m\u001b[0m\u001b[0;34m\u001b[0m\u001b[0m\n\u001b[0m\u001b[1;32m    585\u001b[0m             \u001b[0mout\u001b[0m \u001b[0;34m=\u001b[0m \u001b[0mX\u001b[0m\u001b[0;34m,\u001b[0m \u001b[0my\u001b[0m\u001b[0;34m\u001b[0m\u001b[0;34m\u001b[0m\u001b[0m\n\u001b[1;32m    586\u001b[0m \u001b[0;34m\u001b[0m\u001b[0m\n",
            "\u001b[0;32m/usr/local/lib/python3.10/dist-packages/sklearn/utils/validation.py\u001b[0m in \u001b[0;36mcheck_X_y\u001b[0;34m(X, y, accept_sparse, accept_large_sparse, dtype, order, copy, force_all_finite, ensure_2d, allow_nd, multi_output, ensure_min_samples, ensure_min_features, y_numeric, estimator)\u001b[0m\n\u001b[1;32m   1104\u001b[0m         )\n\u001b[1;32m   1105\u001b[0m \u001b[0;34m\u001b[0m\u001b[0m\n\u001b[0;32m-> 1106\u001b[0;31m     X = check_array(\n\u001b[0m\u001b[1;32m   1107\u001b[0m         \u001b[0mX\u001b[0m\u001b[0;34m,\u001b[0m\u001b[0;34m\u001b[0m\u001b[0;34m\u001b[0m\u001b[0m\n\u001b[1;32m   1108\u001b[0m         \u001b[0maccept_sparse\u001b[0m\u001b[0;34m=\u001b[0m\u001b[0maccept_sparse\u001b[0m\u001b[0;34m,\u001b[0m\u001b[0;34m\u001b[0m\u001b[0;34m\u001b[0m\u001b[0m\n",
            "\u001b[0;32m/usr/local/lib/python3.10/dist-packages/sklearn/utils/validation.py\u001b[0m in \u001b[0;36mcheck_array\u001b[0;34m(array, accept_sparse, accept_large_sparse, dtype, order, copy, force_all_finite, ensure_2d, allow_nd, ensure_min_samples, ensure_min_features, estimator, input_name)\u001b[0m\n\u001b[1;32m    919\u001b[0m \u001b[0;34m\u001b[0m\u001b[0m\n\u001b[1;32m    920\u001b[0m         \u001b[0;32mif\u001b[0m \u001b[0mforce_all_finite\u001b[0m\u001b[0;34m:\u001b[0m\u001b[0;34m\u001b[0m\u001b[0;34m\u001b[0m\u001b[0m\n\u001b[0;32m--> 921\u001b[0;31m             _assert_all_finite(\n\u001b[0m\u001b[1;32m    922\u001b[0m                 \u001b[0marray\u001b[0m\u001b[0;34m,\u001b[0m\u001b[0;34m\u001b[0m\u001b[0;34m\u001b[0m\u001b[0m\n\u001b[1;32m    923\u001b[0m                 \u001b[0minput_name\u001b[0m\u001b[0;34m=\u001b[0m\u001b[0minput_name\u001b[0m\u001b[0;34m,\u001b[0m\u001b[0;34m\u001b[0m\u001b[0;34m\u001b[0m\u001b[0m\n",
            "\u001b[0;32m/usr/local/lib/python3.10/dist-packages/sklearn/utils/validation.py\u001b[0m in \u001b[0;36m_assert_all_finite\u001b[0;34m(X, allow_nan, msg_dtype, estimator_name, input_name)\u001b[0m\n\u001b[1;32m    159\u001b[0m                 \u001b[0;34m\"#estimators-that-handle-nan-values\"\u001b[0m\u001b[0;34m\u001b[0m\u001b[0;34m\u001b[0m\u001b[0m\n\u001b[1;32m    160\u001b[0m             )\n\u001b[0;32m--> 161\u001b[0;31m         \u001b[0;32mraise\u001b[0m \u001b[0mValueError\u001b[0m\u001b[0;34m(\u001b[0m\u001b[0mmsg_err\u001b[0m\u001b[0;34m)\u001b[0m\u001b[0;34m\u001b[0m\u001b[0;34m\u001b[0m\u001b[0m\n\u001b[0m\u001b[1;32m    162\u001b[0m \u001b[0;34m\u001b[0m\u001b[0m\n\u001b[1;32m    163\u001b[0m \u001b[0;34m\u001b[0m\u001b[0m\n",
            "\u001b[0;31mValueError\u001b[0m: Input X contains NaN.\nRandomForestRegressor does not accept missing values encoded as NaN natively. For supervised learning, you might want to consider sklearn.ensemble.HistGradientBoostingClassifier and Regressor which accept missing values encoded as NaNs natively. Alternatively, it is possible to preprocess the data, for instance by using an imputer transformer in a pipeline or drop samples with missing values. See https://scikit-learn.org/stable/modules/impute.html You can find a list of all estimators that handle NaN values at the following page: https://scikit-learn.org/stable/modules/impute.html#estimators-that-handle-nan-values"
          ]
        }
      ]
    },
    {
      "cell_type": "code",
      "source": [
        "import matplotlib.pyplot as plt\n",
        "import numpy as np\n",
        "\n",
        "# Plot actual vs predicted\n",
        "plt.figure(figsize=(10, 6))\n",
        "plt.scatter(y_test, y_pred, alpha=0.5, edgecolor='k', label='Predicted')\n",
        "\n",
        "# Add a line for perfect prediction\n",
        "x = np.linspace(min(y_test), max(y_test), 100)\n",
        "plt.plot(x, x, color='red', linestyle='--', label='Perfect Prediction')\n",
        "\n",
        "plt.xlabel('Actual Temperature (C)')\n",
        "plt.ylabel('Predicted Temperature (C)')\n",
        "plt.title('Actual vs. Predicted Temperature')\n",
        "plt.legend()\n",
        "plt.grid(True)\n",
        "plt.show()"
      ],
      "metadata": {
        "id": "e70sdrfq4t3D"
      },
      "execution_count": null,
      "outputs": []
    },
    {
      "cell_type": "code",
      "source": [
        "import matplotlib.pyplot as plt\n",
        "\n",
        "# Calculate residuals\n",
        "residuals = y_test - y_pred\n",
        "\n",
        "# Residuals plot\n",
        "plt.figure(figsize=(10, 6))\n",
        "plt.scatter(y_pred, residuals, alpha=0.5, edgecolor='k')\n",
        "plt.axhline(y=0, color='red', linestyle='--', label='Zero Error')\n",
        "plt.xlabel('Predicted Temperature (C)')\n",
        "plt.ylabel('Residuals')\n",
        "plt.title('Residuals Plot')\n",
        "plt.legend()\n",
        "plt.grid(True)\n",
        "plt.show()\n"
      ],
      "metadata": {
        "id": "Qby92j7f5IrC"
      },
      "execution_count": null,
      "outputs": []
    },
    {
      "cell_type": "code",
      "source": [
        "# Histogram of residuals\n",
        "plt.figure(figsize=(10, 6))\n",
        "plt.hist(residuals, bins=30, edgecolor='k', alpha=0.7)\n",
        "plt.axvline(x=0, color='red', linestyle='--', label='Zero Error')\n",
        "plt.xlabel('Residuals')\n",
        "plt.ylabel('Frequency')\n",
        "plt.title('Histogram of Residuals')\n",
        "plt.legend()\n",
        "plt.grid(True)\n",
        "plt.show()\n"
      ],
      "metadata": {
        "id": "kwKoxJIu5Lbx"
      },
      "execution_count": null,
      "outputs": []
    },
    {
      "cell_type": "code",
      "source": [
        "plt.figure(figsize=(14, 7))\n",
        "plt.plot(y_test.values, label='Actual', color='blue')\n",
        "plt.plot(y_pred, label='Predicted', color='orange')\n",
        "plt.xlabel('Index')\n",
        "plt.ylabel('Temperature (C)')\n",
        "plt.title('Actual vs. Predicted Temperature Over Time')\n",
        "plt.legend()\n",
        "plt.grid(True)\n",
        "plt.show()\n"
      ],
      "metadata": {
        "id": "0EmGtstQ5Sd-"
      },
      "execution_count": null,
      "outputs": []
    },
    {
      "cell_type": "code",
      "source": [
        "import seaborn as sns\n",
        "\n",
        "plt.figure(figsize=(10, 6))\n",
        "sns.kdeplot(y_test, label='Actual', shade=True)\n",
        "sns.kdeplot(y_pred, label='Predicted', shade=True)\n",
        "plt.xlabel('Temperature (C)')\n",
        "plt.title('Density Plot of Actual vs. Predicted Temperature')\n",
        "plt.legend()\n",
        "plt.grid(True)\n",
        "plt.show()\n"
      ],
      "metadata": {
        "id": "irPDN0GH5avx"
      },
      "execution_count": null,
      "outputs": []
    },
    {
      "cell_type": "code",
      "source": [],
      "metadata": {
        "id": "V_gwkOvI5jG3"
      },
      "execution_count": null,
      "outputs": []
    },
    {
      "cell_type": "markdown",
      "source": [
        "plt.figure(figsize=(10, 6))\n",
        "sm.qqplot(residuals, line='45')\n",
        "plt.title('QQ Plot of Residuals')\n",
        "plt.grid(True)\n",
        "plt.show()\n"
      ],
      "metadata": {
        "id": "gz9x0oDTMsSe"
      }
    },
    {
      "cell_type": "code",
      "source": [
        "# Plot actual vs predicted\n",
        "plt.figure(figsize=(10, 6))\n",
        "plt.scatter(y_test, y_pred, alpha=0.5, edgecolor='k', label='Predicted')\n",
        "plt.plot([y_test.min(), y_test.max()], [y_test.min(), y_test.max()], 'r--', lw=2, label='Perfect Prediction')\n",
        "plt.xlabel('Actual Temperature (C)')\n",
        "plt.ylabel('Predicted Temperature (C)')\n",
        "plt.title('Actual vs. Predicted Temperature (Random Forest)')\n",
        "plt.legend()\n",
        "plt.grid(True)\n",
        "plt.show()"
      ],
      "metadata": {
        "id": "suZ_RUl86Ke6"
      },
      "execution_count": null,
      "outputs": []
    },
    {
      "cell_type": "code",
      "source": [
        "pip install shap\n"
      ],
      "metadata": {
        "id": "Wa5fDp05tv3i"
      },
      "execution_count": null,
      "outputs": []
    },
    {
      "cell_type": "code",
      "source": [
        "import shap\n",
        "import pandas as pd\n",
        "from sklearn.ensemble import RandomForestRegressor\n",
        "from sklearn.model_selection import train_test_split"
      ],
      "metadata": {
        "id": "cUg63hdGtqt0"
      },
      "execution_count": null,
      "outputs": []
    },
    {
      "cell_type": "code",
      "source": [
        "X_test_sample = X_test.sample(n=1000, random_state=42)  # Adjust the sample size as needed\n"
      ],
      "metadata": {
        "id": "0xdwiUI5NA-X"
      },
      "execution_count": null,
      "outputs": []
    },
    {
      "cell_type": "code",
      "source": [
        "# Sample a subset of the test data for efficient SHAP computation\n",
        "X_test_sample = X_test.sample(n=100, random_state=42)  # Adjust the sample size as needed\n",
        "\n",
        "# Initialize SHAP TreeExplainer with the model\n",
        "explainer = shap.TreeExplainer(rf_model)\n",
        "\n",
        "# Compute SHAP values for the sample\n",
        "shap_values_sample = explainer.shap_values(X_test_sample)\n",
        "\n",
        "# Plot SHAP summary for the sample\n",
        "shap.summary_plot(shap_values_sample, X_test_sample)\n"
      ],
      "metadata": {
        "id": "hC_krWwLNQYL"
      },
      "execution_count": null,
      "outputs": []
    },
    {
      "cell_type": "code",
      "source": [],
      "metadata": {
        "id": "3ikGtLQ-RSDM"
      },
      "execution_count": null,
      "outputs": []
    },
    {
      "cell_type": "code",
      "source": [],
      "metadata": {
        "id": "GMDAU1tXt12g"
      },
      "execution_count": null,
      "outputs": []
    },
    {
      "cell_type": "markdown",
      "source": [
        "# Initialize SHAP explainer\n",
        "explainer = shap.TreeExplainer(rf_model)\n",
        "\n",
        "# Compute SHAP values\n",
        "shap_values = explainer.shap_values(X_test)\n",
        "\n",
        "# Plot SHAP summary\n",
        "shap.summary_plot(shap_values, X_test)"
      ],
      "metadata": {
        "id": "MG3FHMwWMife"
      }
    }
  ]
}